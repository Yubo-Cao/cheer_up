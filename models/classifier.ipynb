{
 "cells": [
  {
   "cell_type": "code",
   "execution_count": 5,
   "metadata": {
    "collapsed": true,
    "pycharm": {
     "is_executing": true
    }
   },
   "outputs": [],
   "source": [
    "import torch\n",
    "import torch.nn as nn\n",
    "import torch.nn.functional as F\n",
    "import torchvision\n",
    "import numpy as np"
   ]
  },
  {
   "cell_type": "code",
   "execution_count": null,
   "metadata": {},
   "outputs": [],
   "source": [
    "def conv3x3(in_planes, out_planes, stride=1):\n",
    "    return nn.Conv2d(\n",
    "        in_planes,\n",
    "        out_planes,\n",
    "        kernel_size=3,\n",
    "        stride=stride,\n",
    "        padding=1,\n",
    "        bias=False,\n",
    "    )\n",
    "\n",
    "\n",
    "def conv1x1(in_planes, out_planes, stride=1):\n",
    "    return nn.Conv2d(\n",
    "        in_planes,\n",
    "        out_planes,\n",
    "        kernel_size=1,\n",
    "        stride=stride,\n",
    "        bias=False,\n",
    "    )\n"
   ]
  },
  {
   "cell_type": "code",
   "execution_count": 1,
   "metadata": {},
   "outputs": [
    {
     "ename": "NameError",
     "evalue": "name 'nn' is not defined",
     "output_type": "error",
     "traceback": [
      "\u001b[1;31m---------------------------------------------------------------------------\u001b[0m",
      "\u001b[1;31mNameError\u001b[0m                                 Traceback (most recent call last)",
      "Cell \u001b[1;32mIn [1], line 1\u001b[0m\n\u001b[1;32m----> 1\u001b[0m \u001b[39mclass\u001b[39;00m \u001b[39mMyYolo\u001b[39;00m(nn\u001b[39m.\u001b[39mModule):\n\u001b[0;32m      2\u001b[0m     \u001b[39mdef\u001b[39;00m \u001b[39m__init__\u001b[39m(\n\u001b[0;32m      3\u001b[0m         \u001b[39mself\u001b[39m,\n\u001b[0;32m      4\u001b[0m         device: torch\u001b[39m.\u001b[39mdevice,\n\u001b[1;32m   (...)\u001b[0m\n\u001b[0;32m      9\u001b[0m         nms_thresh: \u001b[39mfloat\u001b[39m \u001b[39m=\u001b[39m \u001b[39m0.5\u001b[39m,\n\u001b[0;32m     10\u001b[0m     ):\n\u001b[0;32m     11\u001b[0m         \u001b[39m\"\"\"\u001b[39;00m\n\u001b[0;32m     12\u001b[0m \u001b[39m        device: cpu or cuda\u001b[39;00m\n\u001b[0;32m     13\u001b[0m \u001b[39m        input_size: the size of the image that this model need to handle\u001b[39;00m\n\u001b[1;32m   (...)\u001b[0m\n\u001b[0;32m     17\u001b[0m \u001b[39m        nms_thresh: the threshold of non-maximum suppression (NMS)\u001b[39;00m\n\u001b[0;32m     18\u001b[0m \u001b[39m        \"\"\"\u001b[39;00m\n",
      "\u001b[1;31mNameError\u001b[0m: name 'nn' is not defined"
     ]
    }
   ],
   "source": [
    "class MyYolo(nn.Module):\n",
    "    def __init__(\n",
    "        self,\n",
    "        device: torch.device,\n",
    "        input_size: int = 416,\n",
    "        num_classes: int = 20,\n",
    "        trainable: bool = False,\n",
    "        conf_thresh: float = 0.01,\n",
    "        nms_thresh: float = 0.5,\n",
    "    ):\n",
    "        \"\"\"\n",
    "        device: cpu or cuda\n",
    "        input_size: the size of the image that this model need to handle\n",
    "        num_classes: the number of classes that this model need to handle\n",
    "        trainable: whether this model is trainable. Set true in training, false in inference\n",
    "        conf_thresh: the threshold of confidence\n",
    "        nms_thresh: the threshold of non-maximum suppression (NMS)\n",
    "        \"\"\"\n",
    "\n",
    "        super(MyYolo, self).__init__()\n",
    "        self.device = device\n",
    "        self.input_size = input_size\n",
    "        self.num_classes = num_classes\n",
    "        self.trainable = trainable\n",
    "        self.conf_thresh = conf_thresh\n",
    "        self.nms_thresh = nms_thresh\n",
    "        self.grid_cell = self.create_grid(input_size)\n",
    "\n",
    "        self.backbone = None\n",
    "        self.neck = None\n",
    "        self.head = None\n",
    "        self.pred = nn.Conv2d(512, 1 + self.num_classes + 4, 1)\n",
    "\n",
    "    def create_grid(self, input_size):\n",
    "        ...\n",
    "\n",
    "    def reset_grid(self, input_size):\n",
    "        ...\n",
    "\n",
    "    def decode_boxes(self, pred):\n",
    "        ...\n",
    "\n",
    "    def nms(self, dets, scores):\n",
    "        x1 = dets[:, 0]\n",
    "        y1 = dets[:, 1]\n",
    "        x2 = dets[:, 2]\n",
    "        y2 = dets[:, 3]\n",
    "\n",
    "        areas = (x2 - x1 + 1) * (y2 - y1 + 1)\n",
    "        order = scores.argsort()[::-1]\n",
    "\n",
    "        keep = []\n",
    "        while order.size > 0:\n",
    "            i = order[0]\n",
    "            keep.append(i)\n",
    "            xx1 = np.maximum(x1[i], x1[order[1:]])\n",
    "            yy1 = np.maximum(y1[i], y1[order[1:]])\n",
    "            xx2 = np.minimum(x2[i], x2[order[1:]])\n",
    "            yy2 = np.minimum(y2[i], y2[order[1:]])\n",
    "\n",
    "            w = np.maximum(0.0, xx2 - xx1 + 1)\n",
    "            h = np.maximum(0.0, yy2 - yy1 + 1)\n",
    "            inter = w * h\n",
    "            ovr = inter / (areas[i] + areas[order[1:]] - inter)\n",
    "\n",
    "            inds = np.where(ovr <= self.nms_thresh)[0]\n",
    "            order = order[inds + 1]\n",
    "        return keep\n",
    "\n",
    "    def forward(self, x):\n",
    "        identity = x\n",
    "\n",
    "        out = self.conv1(out)\n",
    "        out = self.bn1(out)\n",
    "        out = self.relu(out)\n",
    "\n",
    "        out = self.conv2(out)\n",
    "        out = self.bn2(out)\n",
    "\n",
    "        if self.downsample is not None:\n",
    "            identity = self.downsample(identity)\n",
    "\n",
    "        out += identity\n",
    "        out = self.relu(out)\n",
    "\n",
    "        return out\n"
   ]
  }
 ],
 "metadata": {
  "kernelspec": {
   "display_name": "Python 3.10.7 64-bit",
   "language": "python",
   "name": "python3"
  },
  "language_info": {
   "codemirror_mode": {
    "name": "ipython",
    "version": 3
   },
   "file_extension": ".py",
   "mimetype": "text/x-python",
   "name": "python",
   "nbconvert_exporter": "python",
   "pygments_lexer": "ipython3",
   "version": "3.10.7"
  },
  "vscode": {
   "interpreter": {
    "hash": "4a06eea670a17a68af0bc4f7efd325940a1dd9fb389e82d76b6d88de861831d4"
   }
  }
 },
 "nbformat": 4,
 "nbformat_minor": 0
}
