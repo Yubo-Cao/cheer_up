{
 "cells": [
  {
   "cell_type": "code",
   "execution_count": 2,
   "metadata": {
    "collapsed": true,
    "pycharm": {
     "is_executing": true
    }
   },
   "outputs": [
    {
     "ename": "ImportError",
     "evalue": "DLL load failed while importing _C: The specified module could not be found.",
     "output_type": "error",
     "traceback": [
      "\u001B[1;31m---------------------------------------------------------------------------\u001B[0m",
      "\u001B[1;31mImportError\u001B[0m                               Traceback (most recent call last)",
      "Cell \u001B[1;32mIn [2], line 2\u001B[0m\n\u001B[0;32m      1\u001B[0m \u001B[39mimport\u001B[39;00m \u001B[39mtorch\u001B[39;00m\n\u001B[1;32m----> 2\u001B[0m \u001B[39mfrom\u001B[39;00m \u001B[39mtorch\u001B[39;00m \u001B[39mimport\u001B[39;00m nn\n",
      "File \u001B[1;32mc:\\Users\\202016378\\AppData\\Local\\Programs\\Python\\Python310\\lib\\site-packages\\torch\\nn\\__init__.py:1\u001B[0m\n\u001B[1;32m----> 1\u001B[0m \u001B[39mfrom\u001B[39;00m \u001B[39m.\u001B[39;00m\u001B[39mmodules\u001B[39;00m \u001B[39mimport\u001B[39;00m \u001B[39m*\u001B[39m  \u001B[39m# noqa: F403\u001B[39;00m\n\u001B[0;32m      2\u001B[0m \u001B[39mfrom\u001B[39;00m \u001B[39m.\u001B[39;00m\u001B[39mparameter\u001B[39;00m \u001B[39mimport\u001B[39;00m Parameter, UninitializedParameter, UninitializedBuffer\n\u001B[0;32m      3\u001B[0m \u001B[39mfrom\u001B[39;00m \u001B[39m.\u001B[39;00m\u001B[39mparallel\u001B[39;00m \u001B[39mimport\u001B[39;00m DataParallel\n",
      "File \u001B[1;32mc:\\Users\\202016378\\AppData\\Local\\Programs\\Python\\Python310\\lib\\site-packages\\torch\\nn\\modules\\__init__.py:1\u001B[0m\n\u001B[1;32m----> 1\u001B[0m \u001B[39mfrom\u001B[39;00m \u001B[39m.\u001B[39;00m\u001B[39mmodule\u001B[39;00m \u001B[39mimport\u001B[39;00m Module\n\u001B[0;32m      2\u001B[0m \u001B[39mfrom\u001B[39;00m \u001B[39m.\u001B[39;00m\u001B[39mlinear\u001B[39;00m \u001B[39mimport\u001B[39;00m Identity, Linear, Bilinear, LazyLinear\n\u001B[0;32m      3\u001B[0m \u001B[39mfrom\u001B[39;00m \u001B[39m.\u001B[39;00m\u001B[39mconv\u001B[39;00m \u001B[39mimport\u001B[39;00m Conv1d, Conv2d, Conv3d, \\\n\u001B[0;32m      4\u001B[0m     ConvTranspose1d, ConvTranspose2d, ConvTranspose3d, \\\n\u001B[0;32m      5\u001B[0m     LazyConv1d, LazyConv2d, LazyConv3d, LazyConvTranspose1d, LazyConvTranspose2d, LazyConvTranspose3d\n",
      "File \u001B[1;32mc:\\Users\\202016378\\AppData\\Local\\Programs\\Python\\Python310\\lib\\site-packages\\torch\\nn\\modules\\module.py:7\u001B[0m\n\u001B[0;32m      4\u001B[0m \u001B[39mimport\u001B[39;00m \u001B[39mfunctools\u001B[39;00m\n\u001B[0;32m      6\u001B[0m \u001B[39mimport\u001B[39;00m \u001B[39mtorch\u001B[39;00m\n\u001B[1;32m----> 7\u001B[0m \u001B[39mfrom\u001B[39;00m \u001B[39m.\u001B[39;00m\u001B[39m.\u001B[39;00m\u001B[39mparameter\u001B[39;00m \u001B[39mimport\u001B[39;00m Parameter\n\u001B[0;32m      8\u001B[0m \u001B[39mimport\u001B[39;00m \u001B[39mtorch\u001B[39;00m\u001B[39m.\u001B[39;00m\u001B[39mutils\u001B[39;00m\u001B[39m.\u001B[39;00m\u001B[39mhooks\u001B[39;00m \u001B[39mas\u001B[39;00m \u001B[39mhooks\u001B[39;00m\n\u001B[0;32m     10\u001B[0m \u001B[39mfrom\u001B[39;00m \u001B[39mtorch\u001B[39;00m \u001B[39mimport\u001B[39;00m Tensor, device, dtype\n",
      "File \u001B[1;32mc:\\Users\\202016378\\AppData\\Local\\Programs\\Python\\Python310\\lib\\site-packages\\torch\\nn\\parameter.py:2\u001B[0m\n\u001B[0;32m      1\u001B[0m \u001B[39mimport\u001B[39;00m \u001B[39mtorch\u001B[39;00m\n\u001B[1;32m----> 2\u001B[0m \u001B[39mfrom\u001B[39;00m \u001B[39mtorch\u001B[39;00m\u001B[39m.\u001B[39;00m\u001B[39m_C\u001B[39;00m \u001B[39mimport\u001B[39;00m _disabled_torch_function_impl\n\u001B[0;32m      3\u001B[0m \u001B[39mfrom\u001B[39;00m \u001B[39mcollections\u001B[39;00m \u001B[39mimport\u001B[39;00m OrderedDict\n\u001B[0;32m      6\u001B[0m \u001B[39m# Metaclass to combine _TensorMeta and the instance check override for Parameter.\u001B[39;00m\n",
      "\u001B[1;31mImportError\u001B[0m: DLL load failed while importing _C: The specified module could not be found."
     ]
    }
   ],
   "source": [
    "import torch\n",
    "from torch import nn"
   ]
  },
  {
   "cell_type": "code",
   "execution_count": 1,
   "metadata": {},
   "outputs": [
    {
     "ename": "NameError",
     "evalue": "name 'nn' is not defined",
     "output_type": "error",
     "traceback": [
      "\u001B[1;31m---------------------------------------------------------------------------\u001B[0m",
      "\u001B[1;31mNameError\u001B[0m                                 Traceback (most recent call last)",
      "Cell \u001B[1;32mIn [1], line 1\u001B[0m\n\u001B[1;32m----> 1\u001B[0m \u001B[39mclass\u001B[39;00m \u001B[39mMyYolo\u001B[39;00m(nn\u001B[39m.\u001B[39mModule):\n\u001B[0;32m      2\u001B[0m     \u001B[39mdef\u001B[39;00m \u001B[39m__init__\u001B[39m(\n\u001B[0;32m      3\u001B[0m         \u001B[39mself\u001B[39m,\n\u001B[0;32m      4\u001B[0m         device: torch\u001B[39m.\u001B[39mdevice,\n\u001B[1;32m   (...)\u001B[0m\n\u001B[0;32m      9\u001B[0m         nms_thresh: \u001B[39mfloat\u001B[39m \u001B[39m=\u001B[39m \u001B[39m0.5\u001B[39m,\n\u001B[0;32m     10\u001B[0m     ):\n\u001B[0;32m     11\u001B[0m         \u001B[39m\"\"\"\u001B[39;00m\n\u001B[0;32m     12\u001B[0m \u001B[39m        device: cpu or cuda\u001B[39;00m\n\u001B[0;32m     13\u001B[0m \u001B[39m        input_size: the size of the image that this model need to handle\u001B[39;00m\n\u001B[1;32m   (...)\u001B[0m\n\u001B[0;32m     17\u001B[0m \u001B[39m        nms_thresh: the threshold of non-maximum suppression (NMS)\u001B[39;00m\n\u001B[0;32m     18\u001B[0m \u001B[39m        \"\"\"\u001B[39;00m\n",
      "\u001B[1;31mNameError\u001B[0m: name 'nn' is not defined"
     ]
    }
   ],
   "source": [
    "class MyYolo(nn.Module):\n",
    "    def __init__(\n",
    "        self,\n",
    "        device: torch.device,\n",
    "        input_size: int = 416,\n",
    "        num_classes: int = 20,\n",
    "        trainable: bool = False,\n",
    "        conf_thresh: float = 0.01,\n",
    "        nms_thresh: float = 0.5,\n",
    "    ):\n",
    "        \"\"\"\n",
    "        device: cpu or cuda\n",
    "        input_size: the size of the image that this model need to handle\n",
    "        num_classes: the number of classes that this model need to handle\n",
    "        trainable: whether this model is trainable. Set true in training, false in inference\n",
    "        conf_thresh: the threshold of confidence\n",
    "        nms_thresh: the threshold of non-maximum suppression (NMS)\n",
    "        \"\"\"\n",
    "        \n",
    "        super(MyYolo, self).__init__()\n",
    "        self.device = device\n",
    "        self.input_size = input_size\n",
    "        self.num_classes = num_classes\n",
    "        self.trainable = trainable\n",
    "        self.conf_thresh = conf_thresh\n",
    "        self.nms_thresh = nms_thresh\n"
   ]
  }
 ],
 "metadata": {
  "kernelspec": {
   "display_name": "Python 3.10.7 64-bit",
   "language": "python",
   "name": "python3"
  },
  "language_info": {
   "codemirror_mode": {
    "name": "ipython",
    "version": 3
   },
   "file_extension": ".py",
   "mimetype": "text/x-python",
   "name": "python",
   "nbconvert_exporter": "python",
   "pygments_lexer": "ipython3",
   "version": "3.10.7"
  },
  "vscode": {
   "interpreter": {
    "hash": "4a06eea670a17a68af0bc4f7efd325940a1dd9fb389e82d76b6d88de861831d4"
   }
  }
 },
 "nbformat": 4,
 "nbformat_minor": 0
}
